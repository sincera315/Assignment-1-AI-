import numpy as np
import random
import heapq

# Define Constants
SAFEGRID_COST_RANGE = (-3, -1)
OBSTACLE_COST_RANGE = (-4, -2)
ANIMAL_COST_RANGE_KILLED = (-4, -2)
ANIMAL_COST_RANGE_SAFE = (-3, -1)
ENDPOINT_COST = -1
GRID_SIZE = 8

# Generate Random Grid
def generate_random_grid(size):
    return np.random.choice([-1, 0, 5], size=(size, size))

# Handle Endpoints
def handle_endpoints(grid):
    size = len(grid)
    for i in range(size):
        for j in range(size):
            if grid[i][j] == 5:
                blocked_side = random.choice(['up', 'down', 'left', 'right'])
                if blocked_side == 'up':
                    if i == 0:
                        blocked_side = 'down'
                    else:
                        grid[i - 1][j] = -1
                elif blocked_side == 'down':
                    if i == size - 1:
                        blocked_side = 'up'
                    else:
                        grid[i + 1][j] = -1
                elif blocked_side == 'left':
                    if j == 0:
                        blocked_side = 'right'
                    else:
                        grid[i][j - 1] = -1
                elif blocked_side == 'right':
                    if j == size - 1:
                        blocked_side = 'left'
                    else:
                        grid[i][j + 1] = -1

# Define Action Costs
def action_cost(action, grid):
    x, y = action
    cell_value = grid[x][y]
    if cell_value == 0:
        return np.random.randint(*SAFEGRID_COST_RANGE)
    elif cell_value == -1:
        return np.random.randint(*OBSTACLE_COST_RANGE)
    elif cell_value == 5:
        return ENDPOINT_COST
    else:
        return np.random.choice([np.random.randint(*ANIMAL_COST_RANGE_SAFE),
                                 np.random.randint(*ANIMAL_COST_RANGE_KILLED)], p=[0.2, 0.8])

# Uniform Cost Search (UCS)
def uniform_cost_search(start, goal, grid):
    # Initialize priority queue with start node
    pq = [(0, start)]
    visited = set()
    path = {start: None}  # Dictionary to store the parent node for each node in the path
    costs = {start: 0}    # Dictionary to store the cost of reaching each node

    while pq:
        cost, current = heapq.heappop(pq)
        if current == goal:
            # Reconstruct path
            ucs_path = []
            while current is not None:
                ucs_path.append(current)
                current = path[current]
            return ucs_path[::-1]  # Return reversed path

        visited.add(current)

        # Explore neighbors
        for dx, dy in [(0, 1), (0, -1), (1, 0), (-1, 0)]:
            new_x, new_y = current[0] + dx, current[1] + dy
            if 0 <= new_x < GRID_SIZE and 0 <= new_y < GRID_SIZE:  # Check validity of neighbor
                new_cost = cost + action_cost((new_x, new_y), grid)
                new_node = (new_cost, (new_x, new_y))

                if new_node[1] not in visited:
                    heapq.heappush(pq, new_node)
                    if new_node[1] not in costs or new_cost < costs[new_node[1]]:
                        costs[new_node[1]] = new_cost
                        path[new_node[1]] = current

# Main Function
    # Generate Random Grid
grid = generate_random_grid(GRID_SIZE)
grid[7][0]= 2
grid[0][7]= 3
print(grid)

# Handle Endpoints
handle_endpoints(grid)

# Define Start and Goal
start = (0, 0)
goal = (GRID_SIZE - 1, GRID_SIZE - 1)

# Perform Uniform Cost Search
ucs_path = uniform_cost_search(start, goal, grid)

# Output Path
if ucs_path:
    print("Uniform Cost Search Path:", ucs_path)
else:
    print("No path found.")
